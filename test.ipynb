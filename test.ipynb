{
 "cells": [
  {
   "cell_type": "code",
   "execution_count": 1,
   "metadata": {},
   "outputs": [
    {
     "name": "stdout",
     "output_type": "stream",
     "text": [
      "Trying endpoint: /api/v2/projects\n",
      "Status code: 200\n",
      "{'projects': [{'id': 'ktcd-i5t3-be9c-gitb', 'name': 'fraud', 'owner': {'username': 'adrien', 'name': 'Adrien Chenailler', 'email': 'adrien@cloudera.com'}, 'creator': {'username': 'adrien', 'name': 'Adrien Chenailler', 'email': 'adrien@cloudera.com'}, 'description': '', 'visibility': 'private', 'default_engine_type': 'ml_runtime', 'created_at': '2025-06-24T16:06:00.727367Z', 'updated_at': '2025-06-24T19:52:33.321555Z', 'creation_status': 'success', 'permissions': {'read': True, 'write': True, 'admin': True, 'business_user': True, 'operator': True, 'inherit': False}, 'shared_memory_limit': 0, 'environment': '{\"CDSW_APP_POLLING_ENDPOINT\":\"/\",\"PROJECT_OWNER\":\"adrien\"}', 'ephemeral_storage_request': 0, 'ephemeral_storage_limit': 30}], 'next_page_token': ''}\n",
      "----------------------------------------\n",
      "Trying endpoint: /api/v1/projects\n",
      "Status code: 401\n",
      "{'type': 'auth.invalid', 'message': 'Invalid auth token'}\n",
      "----------------------------------------\n",
      "Trying endpoint: /api/projects\n",
      "Status code: 404\n",
      "{'type': 'notFound', 'message': 'Not Found', 'statusCode': 404, 'code': 'notFound'}\n",
      "----------------------------------------\n"
     ]
    }
   ],
   "source": [
    "import requests\n",
    "\n",
    "CLOUDERA_ML_HOST = \"https://...\n",
    ".cloudera.site/\"\n",
    "CLOUDERA_ML_API_KEY = \"\"\n",
    "\n",
    "headers = {\n",
    "    \"Authorization\": f\"Bearer {CLOUDERA_ML_API_KEY}\",\n",
    "    \"Content-Type\": \"application/json\"\n",
    "}\n",
    "\n",
    "# Try the most common endpoints for listing projects\n",
    "for endpoint in [\"/api/v2/projects\", \"/api/v1/projects\", \"/api/projects\"]:\n",
    "    url = f\"{CLOUDERA_ML_HOST.rstrip('/')}{endpoint}\"\n",
    "    response = requests.get(url, headers=headers)\n",
    "    print(f\"Trying endpoint: {endpoint}\")\n",
    "    print(f\"Status code: {response.status_code}\")\n",
    "    try:\n",
    "        print(response.json())\n",
    "    except Exception:\n",
    "        print(response.text)\n",
    "    print(\"-\" * 40)"
   ]
  },
  {
   "cell_type": "code",
   "execution_count": null,
   "metadata": {},
   "outputs": [],
   "source": []
  }
 ],
 "metadata": {
  "kernelspec": {
   "display_name": "cloudera_mcp",
   "language": "python",
   "name": "python3"
  },
  "language_info": {
   "codemirror_mode": {
    "name": "ipython",
    "version": 3
   },
   "file_extension": ".py",
   "mimetype": "text/x-python",
   "name": "python",
   "nbconvert_exporter": "python",
   "pygments_lexer": "ipython3",
   "version": "3.11.11"
  }
 },
 "nbformat": 4,
 "nbformat_minor": 2
}
